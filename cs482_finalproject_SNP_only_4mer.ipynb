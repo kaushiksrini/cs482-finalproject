{
  "nbformat": 4,
  "nbformat_minor": 0,
  "metadata": {
    "colab": {
      "name": "cs482-finalproject-SNP-only-4mer",
      "version": "0.3.2",
      "provenance": [],
      "include_colab_link": true
    },
    "kernelspec": {
      "name": "python3",
      "display_name": "Python 3"
    },
    "accelerator": "GPU"
  },
  "cells": [
    {
      "cell_type": "markdown",
      "metadata": {
        "id": "view-in-github",
        "colab_type": "text"
      },
      "source": [
        "<a href=\"https://colab.research.google.com/github/kaushiksrini/cs482-finalproject/blob/master/cs482_finalproject_SNP_only_4mer.ipynb\" target=\"_parent\"><img src=\"https://colab.research.google.com/assets/colab-badge.svg\" alt=\"Open In Colab\"/></a>"
      ]
    },
    {
      "metadata": {
        "id": "dnu103q_nVGF",
        "colab_type": "code",
        "colab": {}
      },
      "cell_type": "code",
      "source": [
        "import csv\n",
        "import sklearn.model_selection\n",
        "import pandas as pd\n",
        "import numpy as np\n",
        "import seaborn as sns\n",
        "import matplotlib.pyplot as plt\n",
        "%matplotlib inline"
      ],
      "execution_count": 0,
      "outputs": []
    },
    {
      "metadata": {
        "id": "eAgYvkhQpZ93",
        "colab_type": "code",
        "colab": {}
      },
      "cell_type": "code",
      "source": [
        "!pip install -U -q PyDrive\n",
        "from pydrive.auth import GoogleAuth\n",
        "from pydrive.drive import GoogleDrive\n",
        "from google.colab import auth\n",
        "from oauth2client.client import GoogleCredentials\n",
        "\n",
        "auth.authenticate_user()\n",
        "gauth = GoogleAuth()\n",
        "gauth.credentials = GoogleCredentials.get_application_default()\n",
        "drive = GoogleDrive(gauth)"
      ],
      "execution_count": 0,
      "outputs": []
    },
    {
      "metadata": {
        "id": "trOBC3ySprlF",
        "colab_type": "code",
        "colab": {}
      },
      "cell_type": "code",
      "source": [
        "\"\"\"file_list = drive.ListFile({'q': \"'root' in parents and trashed=false\"}).GetList()\n",
        "for file1 in file_list:\n",
        "  print('title: %s, id: %s' % (file1['title'], file1['id']))\"\"\"\n",
        "\n",
        "nbp = drive.CreateFile({'id': '1H_pbNqLMrLqisLwqDP4SNF5AejrBw6XX'})\n",
        "nbp.GetContentFile('nbp.csv')\n",
        "bp = drive.CreateFile({'id': '1ENXkJyRRy45TK4SntiGrmxY1jF6qTx-r'})\n",
        "bp.GetContentFile('bp.csv')"
      ],
      "execution_count": 0,
      "outputs": []
    },
    {
      "metadata": {
        "id": "rbnft5bDhBp4",
        "colab_type": "code",
        "colab": {
          "base_uri": "https://localhost:8080/",
          "height": 50
        },
        "outputId": "ef1cd625-bd52-46fa-d64e-9ecc85ca869c"
      },
      "cell_type": "code",
      "source": [
        "def char_to_val(char):\n",
        "  if char == 'a':\n",
        "    return 0\n",
        "  if char == 't':\n",
        "    return 1\n",
        "  if char == 'c':\n",
        "    return 2\n",
        "  if char == 'g':\n",
        "    return 3\n",
        "  raise UnexpectedNucleotideError(char)\n",
        "\n",
        "\"\"\"with open('nbp.csv', 'r') as f:\n",
        "  nbp = list(csv.reader(f, delimiter=','))\n",
        "with open('bp.csv', 'r') as f:\n",
        "  bp = list(csv.reader(f, delimiter=','))\"\"\"\n",
        "\n",
        "#nbp = [nbp[i][0] + nbp[i][1] for i in range(len(nbp))]\n",
        "#bp = [bp[i][0] + nbp[i][1] for i in range(len(bp))]\n",
        "\n",
        "def deconstruct(data):\n",
        "  for i in range(len(data)):\n",
        "    data[i] = [char_to_val(x) for x in data[i]]\n",
        "\n",
        "#deconstruct(nbp)\n",
        "#deconstruct(bp)\n",
        "\n",
        "  \n",
        "df_nbp = pd.read_csv('nbp.csv', header=None)\n",
        "print(df_nbp.shape)\n",
        "df_bp = pd.read_csv('bp.csv', header=None)\n",
        "print(df_bp.shape)"
      ],
      "execution_count": 4,
      "outputs": [
        {
          "output_type": "stream",
          "text": [
            "(48643, 102)\n",
            "(2699, 102)\n"
          ],
          "name": "stdout"
        }
      ]
    },
    {
      "metadata": {
        "id": "2mjA6eF8JRyt",
        "colab_type": "code",
        "colab": {
          "base_uri": "https://localhost:8080/",
          "height": 151
        },
        "outputId": "fc2d33c6-0c32-4be2-dfe1-efb5fa3935bd"
      },
      "cell_type": "code",
      "source": [
        "def to_categorical(df):\n",
        "  for col in df:\n",
        "    df[col] = df[col].astype('category')\n",
        "    \n",
        "def dont_use_gene(df):\n",
        "  for i, col in enumerate(df):\n",
        "    if i < 96:\n",
        "      df.drop([col], axis=1, inplace=True)\n",
        "    else:\n",
        "      break\n",
        "\n",
        "\n",
        "df_nbp['Brain'] = 1\n",
        "df_bp['Brain'] = 0\n",
        "df_total = df_nbp.append(df_bp)\n",
        "\n",
        "y = df_total['Brain']\n",
        "df_total.drop(['Brain'], axis=1, inplace=True)\n",
        "x = df_total\n",
        "\n",
        "dont_use_gene(x)\n",
        "to_categorical(x)\n",
        "x = pd.get_dummies(x)\n",
        "\n",
        "print(x.shape)\n",
        "print(y.shape)\n",
        "x_train, x_val, y_train, y_val = sklearn.model_selection.train_test_split(x, y, test_size=0.2, random_state=0)\n",
        "x_train, x_test, y_train, y_test = sklearn.model_selection.train_test_split(x_train, y_train, test_size=0.25, random_state=1)\n",
        "print(x_train.shape)\n",
        "print(x_test.shape)\n",
        "print(y_train.shape)\n",
        "print(y_test.shape)\n",
        "print(x_val.shape)\n",
        "print(y_val.shape)"
      ],
      "execution_count": 32,
      "outputs": [
        {
          "output_type": "stream",
          "text": [
            "(51342, 1522)\n",
            "(51342,)\n",
            "(30804, 1522)\n",
            "(10269, 1522)\n",
            "(30804,)\n",
            "(10269,)\n",
            "(10269, 1522)\n",
            "(10269,)\n"
          ],
          "name": "stdout"
        }
      ]
    },
    {
      "metadata": {
        "id": "36q5e_QE9KhC",
        "colab_type": "code",
        "colab": {}
      },
      "cell_type": "code",
      "source": [
        "# y_test.head(100)"
      ],
      "execution_count": 0,
      "outputs": []
    },
    {
      "metadata": {
        "id": "ucbRdmhnFiwf",
        "colab_type": "code",
        "colab": {}
      },
      "cell_type": "code",
      "source": [
        "from keras import optimizers\n",
        "from keras import models\n",
        "from keras import layers\n",
        "from keras import metrics\n",
        "from keras.layers import Dense, Activation"
      ],
      "execution_count": 0,
      "outputs": []
    },
    {
      "metadata": {
        "id": "u7_CN-QwUPUg",
        "colab_type": "code",
        "colab": {}
      },
      "cell_type": "code",
      "source": [
        "model = models.Sequential()\n",
        "model.add(Dense(100, activation='relu', input_dim=1522))\n",
        "model.add(Dense(40, activation='relu'))\n",
        "model.add(Dense(10, activation='relu'))\n",
        "model.add(Dense(1, activation='sigmoid'))"
      ],
      "execution_count": 0,
      "outputs": []
    },
    {
      "metadata": {
        "id": "GNljzZO2Wfj5",
        "colab_type": "code",
        "colab": {}
      },
      "cell_type": "code",
      "source": [
        "model.compile(optimizer='adam', loss='binary_crossentropy', metrics=['accuracy'])"
      ],
      "execution_count": 0,
      "outputs": []
    },
    {
      "metadata": {
        "id": "W0cP6rXEWVf4",
        "colab_type": "code",
        "colab": {
          "base_uri": "https://localhost:8080/",
          "height": 370
        },
        "outputId": "eb80d19f-b85d-4cd5-a124-45159bd17244"
      },
      "cell_type": "code",
      "source": [
        "history = model.fit(x_train, y_train, validation_data=(x_val, y_val), epochs=10, batch_size=32)"
      ],
      "execution_count": 35,
      "outputs": [
        {
          "output_type": "stream",
          "text": [
            "Train on 30804 samples, validate on 10269 samples\n",
            "Epoch 1/10\n",
            "30804/30804 [==============================] - 8s 259us/step - loss: 0.0857 - acc: 0.9761 - val_loss: 0.0335 - val_acc: 0.9912\n",
            "Epoch 2/10\n",
            "30804/30804 [==============================] - 8s 246us/step - loss: 0.0184 - acc: 0.9953 - val_loss: 0.0264 - val_acc: 0.9947\n",
            "Epoch 3/10\n",
            "30804/30804 [==============================] - 8s 246us/step - loss: 0.0089 - acc: 0.9976 - val_loss: 0.0270 - val_acc: 0.9964\n",
            "Epoch 4/10\n",
            "30804/30804 [==============================] - 8s 247us/step - loss: 0.0058 - acc: 0.9986 - val_loss: 0.0258 - val_acc: 0.9963\n",
            "Epoch 5/10\n",
            "30804/30804 [==============================] - 8s 246us/step - loss: 0.0048 - acc: 0.9987 - val_loss: 0.0287 - val_acc: 0.9963\n",
            "Epoch 6/10\n",
            "30804/30804 [==============================] - 8s 244us/step - loss: 0.0042 - acc: 0.9989 - val_loss: 0.0283 - val_acc: 0.9963\n",
            "Epoch 7/10\n",
            "30804/30804 [==============================] - 8s 247us/step - loss: 0.0042 - acc: 0.9989 - val_loss: 0.0251 - val_acc: 0.9963\n",
            "Epoch 8/10\n",
            "30804/30804 [==============================] - 8s 246us/step - loss: 0.0040 - acc: 0.9989 - val_loss: 0.0284 - val_acc: 0.9962\n",
            "Epoch 9/10\n",
            "30804/30804 [==============================] - 8s 246us/step - loss: 0.0039 - acc: 0.9989 - val_loss: 0.0317 - val_acc: 0.9964\n",
            "Epoch 10/10\n",
            "30804/30804 [==============================] - 8s 246us/step - loss: 0.0038 - acc: 0.9989 - val_loss: 0.0302 - val_acc: 0.9966\n"
          ],
          "name": "stdout"
        }
      ]
    },
    {
      "metadata": {
        "id": "rC_1XZS_Xv7K",
        "colab_type": "code",
        "colab": {
          "base_uri": "https://localhost:8080/",
          "height": 34
        },
        "outputId": "aa663d9d-3554-41f5-a1cc-c178a603abe8"
      },
      "cell_type": "code",
      "source": [
        "from sklearn.metrics import accuracy_score\n",
        "y_preds = model.predict(x_test)\n",
        "print(accuracy_score(y_test, np.round(y_preds)))"
      ],
      "execution_count": 36,
      "outputs": [
        {
          "output_type": "stream",
          "text": [
            "0.9951309767260688\n"
          ],
          "name": "stdout"
        }
      ]
    },
    {
      "metadata": {
        "id": "SNOzzhq58bFW",
        "colab_type": "code",
        "colab": {
          "base_uri": "https://localhost:8080/",
          "height": 570
        },
        "outputId": "a11f6042-1be2-4907-aec0-de183d24f420"
      },
      "cell_type": "code",
      "source": [
        "plt.plot(history.history['acc'])\n",
        "plt.plot(history.history['val_acc'])\n",
        "plt.title('model accuracy')\n",
        "plt.ylabel('accuracy')\n",
        "plt.xlabel('epoch')\n",
        "plt.legend(['train', 'test'], loc='upper left')\n",
        "plt.show()\n",
        "# summarize history for loss\n",
        "plt.plot(history.history['loss'])\n",
        "plt.plot(history.history['val_loss'])\n",
        "plt.title('model loss')\n",
        "plt.ylabel('loss')\n",
        "plt.xlabel('epoch')\n",
        "plt.legend(['train', 'test'], loc='upper left')\n",
        "plt.show()"
      ],
      "execution_count": 37,
      "outputs": [
        {
          "output_type": "display_data",
          "data": {
            "image/png": "[encoded data removed]",
            "text/plain": [
              "<matplotlib.figure.Figure at 0x7f44b66bc550>"
            ]
          },
          "metadata": {
            "tags": []
          }
        },
        {
          "output_type": "display_data",
          "data": {
            "image/png": "[encoded data removed]",
            "text/plain": [
              "<matplotlib.figure.Figure at 0x7f44b6708860>"
            ]
          },
          "metadata": {
            "tags": []
          }
        }
      ]
    },
    {
      "metadata": {
        "id": "G3uMmC_qoyK9",
        "colab_type": "code",
        "colab": {}
      },
      "cell_type": "code",
      "source": [
        ""
      ],
      "execution_count": 0,
      "outputs": []
    }
  ]
}