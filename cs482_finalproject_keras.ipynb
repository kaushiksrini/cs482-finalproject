{
  "nbformat": 4,
  "nbformat_minor": 0,
  "metadata": {
    "colab": {
      "name": "cs482-finalproject-keras",
      "version": "0.3.2",
      "provenance": [],
      "include_colab_link": true
    },
    "kernelspec": {
      "name": "python3",
      "display_name": "Python 3"
    },
    "accelerator": "GPU"
  },
  "cells": [
    {
      "cell_type": "markdown",
      "metadata": {
        "id": "view-in-github",
        "colab_type": "text"
      },
      "source": [
        "<a href=\"https://colab.research.google.com/github/kaushiksrini/cs482-finalproject/blob/master/cs482_finalproject_keras.ipynb\" target=\"_parent\"><img src=\"https://colab.research.google.com/assets/colab-badge.svg\" alt=\"Open In Colab\"/></a>"
      ]
    },
    {
      "metadata": {
        "id": "dnu103q_nVGF",
        "colab_type": "code",
        "colab": {}
      },
      "cell_type": "code",
      "source": [
        "import csv\n",
        "import sklearn.model_selection\n",
        "import pandas as pd\n",
        "import numpy as np\n",
        "import seaborn as sns\n",
        "import matplotlib.pyplot as plt\n",
        "%matplotlib inline"
      ],
      "execution_count": 0,
      "outputs": []
    },
    {
      "metadata": {
        "id": "eAgYvkhQpZ93",
        "colab_type": "code",
        "colab": {}
      },
      "cell_type": "code",
      "source": [
        "!pip install -U -q PyDrive\n",
        "from pydrive.auth import GoogleAuth\n",
        "from pydrive.drive import GoogleDrive\n",
        "from google.colab import auth\n",
        "from oauth2client.client import GoogleCredentials\n",
        "\n",
        "auth.authenticate_user()\n",
        "gauth = GoogleAuth()\n",
        "gauth.credentials = GoogleCredentials.get_application_default()\n",
        "drive = GoogleDrive(gauth)"
      ],
      "execution_count": 0,
      "outputs": []
    },
    {
      "metadata": {
        "id": "trOBC3ySprlF",
        "colab_type": "code",
        "colab": {}
      },
      "cell_type": "code",
      "source": [
        "\"\"\"\n",
        "file_list = drive.ListFile({'q': \"'root' in parents and trashed=false\"}).GetList()\n",
        "for file1 in file_list:\n",
        "  print('title: %s, id: %s' % (file1['title'], file1['id']))\n",
        "\"\"\"\n",
        "\n",
        "nbp = drive.CreateFile({'id': '1e5qyWiafhz7IHzzc3M4_G91sEfeEQyxO'})\n",
        "nbp.GetContentFile('nbp.csv')\n",
        "bp = drive.CreateFile({'id': '1zVg-MAc0ZsHoWqISrrlngrAW9Hrqivhc'})\n",
        "bp.GetContentFile('bp.csv')"
      ],
      "execution_count": 0,
      "outputs": []
    },
    {
      "metadata": {
        "id": "rbnft5bDhBp4",
        "colab_type": "code",
        "colab": {}
      },
      "cell_type": "code",
      "source": [
        "\n",
        "\n",
        "def char_to_val(char):\n",
        "  if char == 'a':\n",
        "    return 0\n",
        "  if char == 't':\n",
        "    return 1\n",
        "  if char == 'c':\n",
        "    return 2\n",
        "  if char == 'g':\n",
        "    return 3\n",
        "  raise UnexpectedNucleotideError(char)\n",
        "\n",
        "with open('nbp.csv', 'r') as f:\n",
        "  nbp = list(csv.reader(f, delimiter=','))\n",
        "with open('bp.csv', 'r') as f:\n",
        "  bp = list(csv.reader(f, delimiter=','))\n",
        "\n",
        "nbp = [nbp[i][0] + nbp[i][1] for i in range(len(nbp))]\n",
        "bp = [bp[i][0] + nbp[i][1] for i in range(len(bp))]\n",
        "\n",
        "def deconstruct(data):\n",
        "  for i in range(len(data)):\n",
        "    data[i] = [char_to_val(x) for x in data[i]]\n",
        "\n",
        "deconstruct(nbp)\n",
        "deconstruct(bp)\n",
        "\n",
        "  \n",
        "df_nbp = pd.DataFrame(nbp)\n",
        "df_bp = pd.DataFrame(bp)\n",
        "\n",
        "df_nbp['Brain'] = 0\n",
        "df_bp['Brain'] = 1\n",
        "df_total = df_nbp.append(df_bp) # 51342 rows\n",
        "\n",
        "y = df_total['Brain']\n",
        "df_total.drop(['Brain'], axis=1, inplace=True)\n",
        "x = df_total\n",
        "df_total_copy = df_total.copy()\n",
        "x_train, x_test, y_train, y_test = sklearn.model_selection.train_test_split(x, y, test_size=0.2, random_state=0)\n",
        "\n",
        "\n"
      ],
      "execution_count": 0,
      "outputs": []
    },
    {
      "metadata": {
        "id": "ucbRdmhnFiwf",
        "colab_type": "code",
        "colab": {}
      },
      "cell_type": "code",
      "source": [
        "from keras import optimizers\n",
        "from keras import models\n",
        "from keras import layers\n",
        "from keras import metrics\n",
        "from keras.layers import Dense, Activation"
      ],
      "execution_count": 0,
      "outputs": []
    },
    {
      "metadata": {
        "id": "u7_CN-QwUPUg",
        "colab_type": "code",
        "colab": {}
      },
      "cell_type": "code",
      "source": [
        "model = models.Sequential()\n",
        "model.add(Dense(50, input_dim=108))\n",
        "model.add(Activation('relu'))\n",
        "model.add(Dense(10))\n",
        "model.add(Activation('relu'))\n",
        "model.add(Dense(1))\n",
        "model.add(Activation('sigmoid'))"
      ],
      "execution_count": 0,
      "outputs": []
    },
    {
      "metadata": {
        "id": "GNljzZO2Wfj5",
        "colab_type": "code",
        "colab": {}
      },
      "cell_type": "code",
      "source": [
        "model.compile(optimizer='adam', loss='binary_crossentropy', metrics=['accuracy'])"
      ],
      "execution_count": 0,
      "outputs": []
    },
    {
      "metadata": {
        "id": "W0cP6rXEWVf4",
        "colab_type": "code",
        "colab": {
          "base_uri": "https://localhost:8080/",
          "height": 386
        },
        "outputId": "e5438899-7fc2-41ce-9c15-c0bc0215f8e1"
      },
      "cell_type": "code",
      "source": [
        "model.fit(x_train, y_train, validation_data=(x_test, y_test), epochs=10, batch_size=64)"
      ],
      "execution_count": 45,
      "outputs": [
        {
          "output_type": "stream",
          "text": [
            "Train on 41073 samples, validate on 10269 samples\n",
            "Epoch 1/10\n",
            "41073/41073 [==============================] - 4s 103us/step - loss: 0.2059 - acc: 0.9475 - val_loss: 0.2066 - val_acc: 0.9472\n",
            "Epoch 2/10\n",
            "41073/41073 [==============================] - 4s 99us/step - loss: 0.2059 - acc: 0.9475 - val_loss: 0.2066 - val_acc: 0.9472\n",
            "Epoch 3/10\n",
            "41073/41073 [==============================] - 4s 100us/step - loss: 0.2059 - acc: 0.9475 - val_loss: 0.2066 - val_acc: 0.9472\n",
            "Epoch 4/10\n",
            "41073/41073 [==============================] - 4s 100us/step - loss: 0.2059 - acc: 0.9475 - val_loss: 0.2067 - val_acc: 0.9472\n",
            "Epoch 5/10\n",
            "41073/41073 [==============================] - 4s 99us/step - loss: 0.2059 - acc: 0.9475 - val_loss: 0.2067 - val_acc: 0.9472\n",
            "Epoch 6/10\n",
            "41073/41073 [==============================] - 4s 98us/step - loss: 0.2059 - acc: 0.9475 - val_loss: 0.2066 - val_acc: 0.9472\n",
            "Epoch 7/10\n",
            "41073/41073 [==============================] - 4s 99us/step - loss: 0.2059 - acc: 0.9475 - val_loss: 0.2066 - val_acc: 0.9472\n",
            "Epoch 8/10\n",
            "41073/41073 [==============================] - 4s 99us/step - loss: 0.2059 - acc: 0.9475 - val_loss: 0.2066 - val_acc: 0.9472\n",
            "Epoch 9/10\n",
            "41073/41073 [==============================] - 4s 100us/step - loss: 0.2059 - acc: 0.9475 - val_loss: 0.2066 - val_acc: 0.9472\n",
            "Epoch 10/10\n",
            "41073/41073 [==============================] - 4s 99us/step - loss: 0.2059 - acc: 0.9475 - val_loss: 0.2066 - val_acc: 0.9472\n"
          ],
          "name": "stdout"
        },
        {
          "output_type": "execute_result",
          "data": {
            "text/plain": [
              "<keras.callbacks.History at 0x7f0bd767dcf8>"
            ]
          },
          "metadata": {
            "tags": []
          },
          "execution_count": 45
        }
      ]
    },
    {
      "metadata": {
        "id": "rC_1XZS_Xv7K",
        "colab_type": "code",
        "colab": {}
      },
      "cell_type": "code",
      "source": [
        ""
      ],
      "execution_count": 0,
      "outputs": []
    }
  ]
}