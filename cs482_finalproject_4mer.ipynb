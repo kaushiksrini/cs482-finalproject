{
  "nbformat": 4,
  "nbformat_minor": 0,
  "metadata": {
    "colab": {
      "name": "cs482-finalproject-4mer",
      "version": "0.3.2",
      "provenance": [],
      "include_colab_link": true
    },
    "kernelspec": {
      "name": "python3",
      "display_name": "Python 3"
    },
    "accelerator": "GPU"
  },
  "cells": [
    {
      "cell_type": "markdown",
      "metadata": {
        "id": "view-in-github",
        "colab_type": "text"
      },
      "source": [
        "<a href=\"https://colab.research.google.com/github/kaushiksrini/cs482-finalproject/blob/master/cs482_finalproject_4mer.ipynb\" target=\"_parent\"><img src=\"https://colab.research.google.com/assets/colab-badge.svg\" alt=\"Open In Colab\"/></a>"
      ]
    },
    {
      "metadata": {
        "id": "dnu103q_nVGF",
        "colab_type": "code",
        "colab": {}
      },
      "cell_type": "code",
      "source": [
        "import csv\n",
        "import sklearn.model_selection\n",
        "import pandas as pd\n",
        "import numpy as np\n",
        "import seaborn as sns\n",
        "import matplotlib.pyplot as plt\n",
        "%matplotlib inline"
      ],
      "execution_count": 0,
      "outputs": []
    },
    {
      "metadata": {
        "id": "eAgYvkhQpZ93",
        "colab_type": "code",
        "colab": {}
      },
      "cell_type": "code",
      "source": [
        "!pip install -U -q PyDrive\n",
        "from pydrive.auth import GoogleAuth\n",
        "from pydrive.drive import GoogleDrive\n",
        "from google.colab import auth\n",
        "from oauth2client.client import GoogleCredentials\n",
        "\n",
        "auth.authenticate_user()\n",
        "gauth = GoogleAuth()\n",
        "gauth.credentials = GoogleCredentials.get_application_default()\n",
        "drive = GoogleDrive(gauth)"
      ],
      "execution_count": 0,
      "outputs": []
    },
    {
      "metadata": {
        "id": "trOBC3ySprlF",
        "colab_type": "code",
        "colab": {}
      },
      "cell_type": "code",
      "source": [
        "\"\"\"file_list = drive.ListFile({'q': \"'root' in parents and trashed=false\"}).GetList()\n",
        "for file1 in file_list:\n",
        "  print('title: %s, id: %s' % (file1['title'], file1['id']))\"\"\"\n",
        "\n",
        "nbp = drive.CreateFile({'id': '1H_pbNqLMrLqisLwqDP4SNF5AejrBw6XX'})\n",
        "nbp.GetContentFile('nbp.csv')\n",
        "bp = drive.CreateFile({'id': '1ENXkJyRRy45TK4SntiGrmxY1jF6qTx-r'})\n",
        "bp.GetContentFile('bp.csv')"
      ],
      "execution_count": 0,
      "outputs": []
    },
    {
      "metadata": {
        "id": "rbnft5bDhBp4",
        "colab_type": "code",
        "outputId": "42dfc33d-337d-4fff-9f32-4bb8e1ad8f8d",
        "colab": {
          "base_uri": "https://localhost:8080/",
          "height": 50
        }
      },
      "cell_type": "code",
      "source": [
        "def char_to_val(char):\n",
        "  if char == 'a':\n",
        "    return 0\n",
        "  if char == 't':\n",
        "    return 1\n",
        "  if char == 'c':\n",
        "    return 2\n",
        "  if char == 'g':\n",
        "    return 3\n",
        "  raise UnexpectedNucleotideError(char)\n",
        "\n",
        "\"\"\"with open('nbp.csv', 'r') as f:\n",
        "  nbp = list(csv.reader(f, delimiter=','))\n",
        "with open('bp.csv', 'r') as f:\n",
        "  bp = list(csv.reader(f, delimiter=','))\"\"\"\n",
        "\n",
        "#nbp = [nbp[i][0] + nbp[i][1] for i in range(len(nbp))]\n",
        "#bp = [bp[i][0] + nbp[i][1] for i in range(len(bp))]\n",
        "\n",
        "def deconstruct(data):\n",
        "  for i in range(len(data)):\n",
        "    data[i] = [char_to_val(x) for x in data[i]]\n",
        "\n",
        "#deconstruct(nbp)\n",
        "#deconstruct(bp)\n",
        "\n",
        "  \n",
        "df_nbp = pd.read_csv('nbp.csv', header=None)\n",
        "print(df_nbp.shape)\n",
        "df_bp = pd.read_csv('bp.csv', header=None)\n",
        "print(df_bp.shape)"
      ],
      "execution_count": 82,
      "outputs": [
        {
          "output_type": "stream",
          "text": [
            "(48643, 102)\n",
            "(2699, 102)\n"
          ],
          "name": "stdout"
        }
      ]
    },
    {
      "metadata": {
        "id": "2mjA6eF8JRyt",
        "colab_type": "code",
        "colab": {
          "base_uri": "https://localhost:8080/",
          "height": 118
        },
        "outputId": "e9d45619-7ebb-4fb6-d4a4-343c145c213e"
      },
      "cell_type": "code",
      "source": [
        "def to_categorical(df):\n",
        "  for col in df:\n",
        "    df[col] = df[col].astype('category')\n",
        "\n",
        "df_nbp['Brain'] = 1\n",
        "df_bp['Brain'] = 0\n",
        "df_total = df_nbp.append(df_bp)\n",
        "\n",
        "y = df_total['Brain']\n",
        "df_total.drop(['Brain'], axis=1, inplace=True)\n",
        "x = df_total\n",
        "\n",
        "to_categorical(x)\n",
        "x = pd.get_dummies(x)\n",
        "\n",
        "print(x.shape)\n",
        "print(y.shape)\n",
        "x_train, x_test, y_train, y_test = sklearn.model_selection.train_test_split(x, y, test_size=0.2, random_state=0)\n",
        "print(x_train.shape)\n",
        "print(x_test.shape)\n",
        "print(y_train.shape)\n",
        "print(y_test.shape)"
      ],
      "execution_count": 83,
      "outputs": [
        {
          "output_type": "stream",
          "text": [
            "(51342, 25825)\n",
            "(51342,)\n",
            "(41073, 25825)\n",
            "(10269, 25825)\n",
            "(41073,)\n",
            "(10269,)\n"
          ],
          "name": "stdout"
        }
      ]
    },
    {
      "metadata": {
        "id": "36q5e_QE9KhC",
        "colab_type": "code",
        "colab": {
          "base_uri": "https://localhost:8080/",
          "height": 1058
        },
        "outputId": "b6fd89fa-c2b3-48c1-e937-c322c382bf35"
      },
      "cell_type": "code",
      "source": [
        "y_test.head(100)"
      ],
      "execution_count": 84,
      "outputs": [
        {
          "output_type": "execute_result",
          "data": {
            "text/plain": [
              "20413    1\n",
              "3485     1\n",
              "37016    1\n",
              "1613     1\n",
              "27498    1\n",
              "8942     1\n",
              "32391    1\n",
              "24051    1\n",
              "11468    1\n",
              "2367     0\n",
              "27215    1\n",
              "40783    1\n",
              "7081     1\n",
              "12745    1\n",
              "48348    1\n",
              "39418    1\n",
              "9945     1\n",
              "14067    1\n",
              "2714     1\n",
              "23138    1\n",
              "46872    1\n",
              "40192    1\n",
              "27077    1\n",
              "481      0\n",
              "11765    1\n",
              "24824    1\n",
              "24374    1\n",
              "14764    1\n",
              "40627    1\n",
              "28607    1\n",
              "        ..\n",
              "17835    1\n",
              "10371    1\n",
              "18849    1\n",
              "6205     1\n",
              "22418    1\n",
              "36694    1\n",
              "32184    1\n",
              "13253    1\n",
              "31856    1\n",
              "18032    1\n",
              "14726    1\n",
              "44393    1\n",
              "20104    1\n",
              "3174     1\n",
              "4283     1\n",
              "11379    1\n",
              "37453    1\n",
              "18410    1\n",
              "9199     1\n",
              "1297     0\n",
              "46739    1\n",
              "1834     0\n",
              "18230    1\n",
              "48220    1\n",
              "34259    1\n",
              "26510    1\n",
              "47599    1\n",
              "31396    1\n",
              "5739     1\n",
              "18893    1\n",
              "Name: Brain, Length: 100, dtype: int64"
            ]
          },
          "metadata": {
            "tags": []
          },
          "execution_count": 84
        }
      ]
    },
    {
      "metadata": {
        "id": "ucbRdmhnFiwf",
        "colab_type": "code",
        "colab": {}
      },
      "cell_type": "code",
      "source": [
        "from keras import optimizers\n",
        "from keras import models\n",
        "from keras import layers\n",
        "from keras import metrics\n",
        "from keras.layers import Dense, Activation"
      ],
      "execution_count": 0,
      "outputs": []
    },
    {
      "metadata": {
        "id": "u7_CN-QwUPUg",
        "colab_type": "code",
        "colab": {}
      },
      "cell_type": "code",
      "source": [
        "model = models.Sequential()\n",
        "model.add(Dense(100, activation='relu', input_dim=25825))\n",
        "model.add(Dense(1, activation='sigmoid'))"
      ],
      "execution_count": 0,
      "outputs": []
    },
    {
      "metadata": {
        "id": "GNljzZO2Wfj5",
        "colab_type": "code",
        "colab": {}
      },
      "cell_type": "code",
      "source": [
        "model.compile(optimizer='rmsprop', loss='binary_crossentropy', metrics=['accuracy'])"
      ],
      "execution_count": 0,
      "outputs": []
    },
    {
      "metadata": {
        "id": "W0cP6rXEWVf4",
        "colab_type": "code",
        "outputId": "3d38b2fd-94d5-4790-94f8-33ba7d0f83a4",
        "colab": {
          "base_uri": "https://localhost:8080/",
          "height": 386
        }
      },
      "cell_type": "code",
      "source": [
        "model.fit(x_train, y_train, validation_data=(x_test, y_test), epochs=10, batch_size=32)"
      ],
      "execution_count": 88,
      "outputs": [
        {
          "output_type": "stream",
          "text": [
            "Train on 41073 samples, validate on 10269 samples\n",
            "Epoch 1/10\n",
            "41073/41073 [==============================] - 39s 948us/step - loss: 0.0511 - acc: 0.9859 - val_loss: 0.0229 - val_acc: 0.9941\n",
            "Epoch 2/10\n",
            "41073/41073 [==============================] - 38s 937us/step - loss: 0.0158 - acc: 0.9962 - val_loss: 0.0231 - val_acc: 0.9949\n",
            "Epoch 3/10\n",
            "41073/41073 [==============================] - 39s 938us/step - loss: 0.0117 - acc: 0.9978 - val_loss: 0.0189 - val_acc: 0.9961\n",
            "Epoch 4/10\n",
            "41073/41073 [==============================] - 39s 940us/step - loss: 0.0104 - acc: 0.9982 - val_loss: 0.0301 - val_acc: 0.9959\n",
            "Epoch 5/10\n",
            "41073/41073 [==============================] - 39s 944us/step - loss: 0.0101 - acc: 0.9985 - val_loss: 0.0190 - val_acc: 0.9966\n",
            "Epoch 6/10\n",
            "41073/41073 [==============================] - 39s 942us/step - loss: 0.0101 - acc: 0.9987 - val_loss: 0.0215 - val_acc: 0.9968\n",
            "Epoch 7/10\n",
            "41073/41073 [==============================] - 38s 923us/step - loss: 0.0098 - acc: 0.9987 - val_loss: 0.0240 - val_acc: 0.9968\n",
            "Epoch 8/10\n",
            "41073/41073 [==============================] - 39s 943us/step - loss: 0.0100 - acc: 0.9988 - val_loss: 0.0235 - val_acc: 0.9968\n",
            "Epoch 9/10\n",
            "41073/41073 [==============================] - 39s 943us/step - loss: 0.0096 - acc: 0.9989 - val_loss: 0.0183 - val_acc: 0.9969\n",
            "Epoch 10/10\n",
            "41073/41073 [==============================] - 39s 944us/step - loss: 0.0099 - acc: 0.9989 - val_loss: 0.0205 - val_acc: 0.9967\n"
          ],
          "name": "stdout"
        },
        {
          "output_type": "execute_result",
          "data": {
            "text/plain": [
              "<keras.callbacks.History at 0x7f9127fcab38>"
            ]
          },
          "metadata": {
            "tags": []
          },
          "execution_count": 88
        }
      ]
    },
    {
      "metadata": {
        "id": "rC_1XZS_Xv7K",
        "colab_type": "code",
        "outputId": "48090595-ef12-442e-a957-3c9df485fe87",
        "colab": {
          "base_uri": "https://localhost:8080/",
          "height": 134
        }
      },
      "cell_type": "code",
      "source": [
        "y_preds = model.predict(x_test)\n",
        "print(y_preds)"
      ],
      "execution_count": 89,
      "outputs": [
        {
          "output_type": "stream",
          "text": [
            "[[9.9985802e-01]\n",
            " [9.9998879e-01]\n",
            " [9.9953973e-01]\n",
            " ...\n",
            " [4.3611054e-10]\n",
            " [9.9920279e-01]\n",
            " [9.9992931e-01]]\n"
          ],
          "name": "stdout"
        }
      ]
    },
    {
      "metadata": {
        "id": "SNOzzhq58bFW",
        "colab_type": "code",
        "colab": {}
      },
      "cell_type": "code",
      "source": [
        ""
      ],
      "execution_count": 0,
      "outputs": []
    }
  ]
}